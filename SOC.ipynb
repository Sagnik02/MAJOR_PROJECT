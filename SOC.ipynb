{
 "cells": [
  {
   "cell_type": "code",
   "execution_count": null,
   "id": "bbe50cf7-f2c6-43ea-b6b0-01caf7a37220",
   "metadata": {},
   "outputs": [],
   "source": [
    "def calculate_soc(remaining_capacity, nominal_capacity):\n",
    "\n",
    "    if nominal_capacity <= 0:\n",
    "        raise ValueError(\"Nominal capacity must be greater than zero.\")\n",
    "    \n",
    "    soc = (remaining_capacity / nominal_capacity) * 100\n",
    "    return soc\n",
    "\n",
    "\n",
    "# Example Usage\n",
    "try:\n",
    "    remaining_capacity = float(input(\"Enter remaining charge capacity (Ah or mAh): \"))\n",
    "    nominal_capacity = float(input(\"Enter nominal charge capacity (Ah or mAh): \"))\n",
    "    \n",
    "    soc = calculate_soc(remaining_capacity, nominal_capacity)\n",
    "    print(f\"State of Charge (SoC): {soc:.2f}%\")\n",
    "except ValueError as e:\n",
    "    print(f\"Error: {e}\")\n"
   ]
  },
  {
   "cell_type": "code",
   "execution_count": null,
   "id": "a0d2d965-908e-490c-89ed-11aab403afca",
   "metadata": {},
   "outputs": [],
   "source": []
  },
  {
   "cell_type": "code",
   "execution_count": null,
   "id": "213c9b5b-198e-4b3e-a56b-6a852c79c3d4",
   "metadata": {},
   "outputs": [],
   "source": []
  }
 ],
 "metadata": {
  "kernelspec": {
   "display_name": "Python 3 (ipykernel)",
   "language": "python",
   "name": "python3"
  },
  "language_info": {
   "codemirror_mode": {
    "name": "ipython",
    "version": 3
   },
   "file_extension": ".py",
   "mimetype": "text/x-python",
   "name": "python",
   "nbconvert_exporter": "python",
   "pygments_lexer": "ipython3",
   "version": "3.11.0"
  }
 },
 "nbformat": 4,
 "nbformat_minor": 5
}
